{
 "cells": [
  {
   "cell_type": "markdown",
   "metadata": {},
   "source": [
    "# WeatherPy\n",
    "----\n",
    "\n",
    "#### Note\n",
    "* Instructions have been included for each segment. You do not have to follow them exactly, but they are included to help you think through the steps."
   ]
  },
  {
   "cell_type": "code",
   "execution_count": null,
   "metadata": {},
   "outputs": [],
   "source": [
    "pip install citipy"
   ]
  },
  {
   "cell_type": "code",
   "execution_count": 1,
   "metadata": {
    "scrolled": true
   },
   "outputs": [],
   "source": [
    "# Dependencies and Setup\n",
    "import matplotlib.pyplot as plt\n",
    "import pandas as pd\n",
    "import numpy as np\n",
    "import requests\n",
    "import time\n",
    "from scipy.stats import linregress\n",
    "\n",
    "# Import API key\n",
    "from api_keys import weather_api_key\n",
    "\n",
    "# Incorporated citipy to determine city based on latitude and longitude\n",
    "from citipy import citipy\n",
    "\n",
    "# Output File (CSV)\n",
    "output_data_file = \"output_data/cities.csv\"\n",
    "\n",
    "# Range of latitudes and longitudes\n",
    "lat_range = (-90, 90)\n",
    "lng_range = (-180, 180)"
   ]
  },
  {
   "cell_type": "markdown",
   "metadata": {},
   "source": [
    "## Generate Cities List"
   ]
  },
  {
   "cell_type": "code",
   "execution_count": 2,
   "metadata": {},
   "outputs": [
    {
     "data": {
      "text/plain": [
       "613"
      ]
     },
     "execution_count": 2,
     "metadata": {},
     "output_type": "execute_result"
    }
   ],
   "source": [
    "# List for holding lat_lngs and cities\n",
    "lat_lngs = []\n",
    "cities = []\n",
    "\n",
    "# Create a set of random lat and lng combinations\n",
    "lats = np.random.uniform(low=-90.000, high=90.000, size=1500)\n",
    "lngs = np.random.uniform(low=-180.000, high=180.000, size=1500)\n",
    "lat_lngs = zip(lats, lngs)\n",
    "\n",
    "# Identify nearest city for each lat, lng combination\n",
    "for lat_lng in lat_lngs:\n",
    "    city = citipy.nearest_city(lat_lng[0], lat_lng[1]).city_name\n",
    "    \n",
    "    # If the city is unique, then add it to a our cities list\n",
    "    if city not in cities:\n",
    "        cities.append(city)\n",
    "\n",
    "# Print the city count to confirm sufficient count\n",
    "len(cities)"
   ]
  },
  {
   "cell_type": "markdown",
   "metadata": {},
   "source": [
    "### Perform API Calls\n",
    "* Perform a weather check on each city using a series of successive API calls.\n",
    "* Include a print log of each city as its being processed (with the city number and city name).\n"
   ]
  },
  {
   "cell_type": "code",
   "execution_count": 3,
   "metadata": {},
   "outputs": [],
   "source": [
    "# Set up lists to hold response info\n",
    "City_Name = []\n",
    "Country = []\n",
    "City_ID = []\n",
    "Date = []\n",
    "Lat = []\n",
    "Long = []\n",
    "Cloudiness = []\n",
    "Humidity = []\n",
    "Max_Temp = []\n",
    "Wind_Speed = []"
   ]
  },
  {
   "cell_type": "code",
   "execution_count": 4,
   "metadata": {},
   "outputs": [],
   "source": [
    "# Define the base URL and params\n",
    "base_url = \"http://api.openweathermap.org/data/2.5/weather?\"\n",
    "units = \"Imperial\"\n",
    "params = {\n",
    "    \"appid\": weather_api_key,\n",
    "    \"units\": units\n",
    "}"
   ]
  },
  {
   "cell_type": "code",
   "execution_count": 5,
   "metadata": {
    "scrolled": true
   },
   "outputs": [
    {
     "name": "stdout",
     "output_type": "stream",
     "text": [
      " City name is airai.\n",
      " City name is kangaatsiaq.\n",
      " City name is jamestown.\n",
      " City name is talcahuano.\n",
      " City name is slavyanka.\n",
      " City name is zatoka.\n",
      " City name is portland.\n",
      " City name is bambanglipuro.\n",
      " City name is puerto ayora.\n",
      " City name is paamiut.\n",
      " City name is kumbo.\n",
      " City name is kimbe.\n",
      " City name is pandan.\n",
      " City name is port alfred.\n",
      " City name is tonantins.\n",
      " City name is new norfolk.\n",
      " City name is vagay.\n",
      " City name is henties bay.\n",
      " City name is clyde river.\n",
      " City name is east london.\n",
      " City name is busselton.\n",
      " City name is kapaa.\n",
      " City name is rikitea.\n",
      " City name is west bay.\n",
      " City name is kapit.\n",
      " City name is mataura.\n",
      " City name is tuktoyaktuk.\n",
      " City name is cherskiy.\n",
      " City name is ushuaia.\n",
      " City name is koslan.\n",
      " City name is mount gambier.\n",
      " City name is albany.\n",
      " City name is castro.\n",
      " City name is cayenne.\n",
      " City name is yellowknife.\n",
      " City name is barcelona.\n",
      " City name is hobart.\n",
      " City name is okhotsk.\n",
      " City name is puerto colombia.\n",
      " City name is hermanus.\n",
      " City name is villa bruzual.\n",
      " City name is kavieng.\n",
      " City name is amapa.\n",
      " City name is bluff.\n",
      " City name is carnarvon.\n",
      " City name is ugoofaaru.\n",
      " City name is barrow.\n",
      " City name is saint-philippe.\n",
      " City name is neuquen.\n",
      " City name is sept-iles.\n",
      " City name is vaini.\n",
      " City name is torri di quartesolo.\n",
      " City name is georgetown.\n",
      " City name is iwanai.\n",
      " City name is lamu.\n",
      " City name is perelyub.\n",
      " City name is christchurch.\n",
      " City name is ukiah.\n",
      " City name is hithadhoo.\n",
      " City name is imbituba.\n",
      " City name is shashi.\n",
      " City name is ust-kuyga.\n",
      " City name is banda aceh.\n",
      " City name is rio gallegos.\n",
      " City name is fortuna.\n",
      " City name is severo-kurilsk.\n",
      " City name is ribeira grande.\n",
      " City name is longyearbyen.\n",
      " City name is lorengau.\n",
      " City name is richards bay.\n",
      " City name is nouakchott.\n",
      " City name is sao filipe.\n",
      " City name is vondrozo.\n",
      " City name is laguna.\n",
      " City name is hamilton.\n",
      " City name is pouebo.\n",
      " City name is xining.\n",
      " City name is victoria.\n",
      " City name is husavik.\n",
      " City name is qaanaaq.\n",
      " City name is hofn.\n",
      " City name is conde.\n",
      " City name is gornyy.\n",
      " City name is lavrentiya.\n",
      " City name is khatanga.\n",
      " City name is porto novo.\n",
      " City name is jieshi.\n",
      " City name is cape town.\n",
      " City name is punta arenas.\n",
      " City name is hokitika.\n",
      " City name is dabrowa gornicza.\n",
      " City name is hervey bay.\n",
      " City name is hovd.\n",
      " City name is cururupu.\n",
      " City name is comodoro rivadavia.\n",
      " City name is dikson.\n",
      " City name is kyzyl-suu.\n",
      " City name is rocha.\n",
      " City name is cabo san lucas.\n",
      " City name is provideniya.\n",
      " City name is chokurdakh.\n",
      " City name is san antonio.\n",
      " City name is pevek.\n",
      " City name is bengkulu.\n",
      " City name is petropavlovsk-kamchatskiy.\n",
      " City name is esperance.\n",
      " City name is chokwe.\n",
      " City name is yushan.\n",
      " City name is ponta do sol.\n",
      " City name is olupona.\n",
      " City name is vredendal.\n",
      " City name is kodiak.\n",
      " City name is kulhudhuffushi.\n",
      " City name is san cristobal.\n",
      " City name is kirovsk.\n",
      " City name is vicuna.\n",
      " City name is butaritari.\n",
      " City name is atuona.\n",
      " City name is rincon.\n",
      " City name is egvekinot.\n",
      " City name is kahului.\n",
      " City name is solnechnyy.\n",
      " City name is avarua.\n",
      " City name is yamada.\n",
      " City name is mahebourg.\n",
      " City name is duluth.\n",
      " City name is constitucion.\n",
      " City name is caxito.\n",
      " City name is canchungo.\n",
      " City name is mar del plata.\n",
      " City name is lasa.\n",
      " City name is auki.\n",
      " City name is prince rupert.\n",
      " City name is abu samrah.\n",
      " City name is pisco.\n",
      " City name is upernavik.\n",
      " City name is iqaluit.\n",
      " City name is te anau.\n",
      " City name is saldanha.\n",
      " City name is kampong chhnang.\n",
      " City name is rawson.\n",
      " City name is kushima.\n",
      " City name is nikolskoye.\n",
      " City name is panacan.\n",
      " City name is gundorovskiy.\n",
      " City name is saint anthony.\n",
      " City name is boca do acre.\n",
      " City name is komsomolskiy.\n",
      " City name is batsfjord.\n",
      " City name is xuddur.\n",
      " City name is zhiletovo.\n",
      " City name is batemans bay.\n",
      " City name is danville.\n",
      " City name is sendai.\n",
      " City name is tuatapere.\n",
      " City name is remanso.\n",
      " City name is dunda.\n",
      " City name is bethel.\n",
      " City name is benalla.\n",
      " City name is varginha.\n",
      " City name is kathmandu.\n",
      " City name is jojoima.\n",
      " City name is katsuura.\n",
      " City name is hilo.\n",
      " City name is tasiilaq.\n",
      " City name is mateare.\n",
      " City name is ilulissat.\n",
      " City name is sinnamary.\n",
      " City name is vestmannaeyjar.\n",
      " City name is waddan.\n",
      " City name is vega de alatorre.\n",
      " City name is barabai.\n",
      " City name is thompson.\n",
      " City name is narsaq.\n",
      " City name is ingham.\n",
      " City name is caravelas.\n",
      " City name is pangnirtung.\n",
      " City name is geraldton.\n",
      " City name is talnakh.\n",
      " City name is mgachi.\n",
      " City name is vardo.\n",
      " City name is rizhao.\n",
      " City name is tocopilla.\n",
      " City name is faya.\n",
      " City name is antibes.\n",
      " City name is bredasdorp.\n",
      " City name is beloha.\n",
      " City name is sovetskiy.\n",
      " City name is aklavik.\n",
      " City name is fare.\n",
      " City name is taywarah.\n",
      " City name is kaitangata.\n",
      " City name is salalah.\n",
      " City name is dukat.\n",
      " City name is amga.\n",
      " City name is tambovka.\n",
      " City name is acarau.\n",
      " City name is moron.\n",
      " City name is san quintin.\n",
      " City name is san patricio.\n",
      " City name is banjarmasin.\n",
      " City name is alofi.\n",
      " City name is skegness.\n",
      " City name is dingle.\n",
      " City name is half moon bay.\n",
      " City name is mazamari.\n",
      " City name is standish.\n",
      " City name is along.\n",
      " City name is hasaki.\n",
      " City name is presidencia roque saenz pena.\n",
      " City name is souillac.\n",
      " City name is bathsheba.\n",
      " City name is isangel.\n",
      " City name is yatou.\n",
      " City name is leningradskiy.\n",
      " City name is yulara.\n",
      " City name is pringsewu.\n",
      " City name is ulaangom.\n",
      " City name is quatre cocos.\n",
      " City name is bilibino.\n",
      " City name is cali.\n",
      " City name is sompeta.\n",
      " City name is omboue.\n",
      " City name is mokhsogollokh.\n",
      " City name is megion.\n",
      " City name is mount isa.\n",
      " City name is honghu.\n",
      " City name is taltal.\n",
      " City name is bardiyah.\n",
      " City name is saint george.\n",
      " City name is vanimo.\n",
      " City name is arraial do cabo.\n",
      " City name is yaviza.\n",
      " City name is port-gentil.\n",
      " City name is umba.\n",
      " City name is margate.\n",
      " City name is klyuchi.\n",
      " City name is emerald.\n",
      " City name is honolulu.\n",
      " City name is ha giang.\n",
      " City name is taga.\n",
      " City name is berlevag.\n",
      " City name is bose.\n",
      " City name is vao.\n",
      " City name is grand gaube.\n",
      " City name is kandrian.\n",
      " City name is alyangula.\n",
      " City name is saint-pierre.\n",
      " City name is kruisfontein.\n",
      " City name is sarkand.\n",
      " City name is cullinan.\n",
      " City name is chuy.\n",
      " City name is saskylakh.\n",
      " City name is port-cartier.\n",
      " City name is makakilo city.\n",
      " City name is rayadrug.\n",
      " City name is roebourne.\n",
      " City name is kharp.\n",
      " City name is kavaratti.\n",
      " City name is ihosy.\n",
      " City name is ambilobe.\n",
      " City name is sungaipenuh.\n",
      " City name is gat.\n",
      " City name is padang.\n",
      " City name is asau.\n",
      " City name is muslyumovo.\n",
      " City name is yinchuan.\n",
      " City name is ustka.\n",
      " City name is bom jesus.\n",
      " City name is kudahuvadhoo.\n",
      " City name is aykhal.\n",
      " City name is sembe.\n",
      " City name is kirakira.\n",
      " City name is nizwa.\n",
      " City name is filadelfia.\n",
      " City name is kollam.\n",
      " City name is chapais.\n",
      " City name is samarai.\n",
      " City name is hami.\n",
      " City name is muscatine.\n",
      " City name is atasu.\n",
      " City name is zhigansk.\n",
      " City name is sibolga.\n",
      " City name is sfantu gheorghe.\n",
      " City name is wanning.\n",
      " City name is urucara.\n",
      " City name is anloga.\n",
      " City name is bandar.\n",
      " City name is naze.\n",
      " City name is umm kaddadah.\n",
      " City name is guerrero negro.\n",
      " City name is deputatskiy.\n",
      " City name is lebyazhye.\n",
      " City name is mao.\n",
      " City name is los llanos de aridane.\n",
      " City name is sitka.\n",
      " City name is hammerfest.\n",
      " City name is nikolsk.\n",
      " City name is fort saint james.\n",
      " City name is gambela.\n",
      " City name is luganville.\n",
      " City name is iki-burul.\n",
      " City name is florencia.\n",
      " City name is kargasok.\n",
      " City name is iberia.\n",
      " City name is lompoc.\n",
      " City name is lata.\n",
      " City name is necochea.\n",
      " City name is nanchang.\n",
      " City name is pingliang.\n",
      " City name is sisimiut.\n",
      " City name is bella union.\n",
      " City name is virginia beach.\n",
      " City name is bubaque.\n",
      " City name is chengde.\n",
      " City name is barabinsk.\n",
      " City name is tiksi.\n",
      " City name is whitehorse.\n",
      " City name is shitanjing.\n",
      " City name is naryan-mar.\n",
      " City name is babushkin.\n",
      " City name is buenaventura.\n",
      " City name is zhuhai.\n",
      " City name is bonavista.\n",
      " City name is merauke.\n",
      " City name is polovinnoye.\n",
      " City name is hundorp.\n",
      " City name is beringovskiy.\n",
      " City name is korem.\n",
      " City name is cidreira.\n",
      " City name is dongying.\n",
      " City name is lazaro cardenas.\n",
      " City name is isabela.\n",
      " City name is jalu.\n",
      " City name is vila.\n",
      " City name is savinka.\n",
      " City name is taber.\n"
     ]
    },
    {
     "name": "stdout",
     "output_type": "stream",
     "text": [
      " City name is mukhen.\n",
      " City name is dongsheng.\n",
      " City name is kabanjahe.\n",
      " City name is birjand.\n",
      " City name is pindwara.\n",
      " City name is kamyaran.\n",
      " City name is waipawa.\n",
      " City name is torbay.\n",
      " City name is salina cruz.\n",
      " City name is nantucket.\n",
      " City name is ishigaki.\n",
      " City name is palmer.\n",
      " City name is masterton.\n",
      " City name is manta.\n",
      " City name is grootfontein.\n",
      " City name is ucluelet.\n",
      " City name is nome.\n",
      " City name is lebu.\n",
      " City name is warri.\n",
      " City name is muros.\n",
      " City name is almaznyy.\n",
      " City name is charters towers.\n",
      " City name is priargunsk.\n",
      " City name is pontianak.\n",
      " City name is vestmanna.\n",
      " City name is codrington.\n",
      " City name is venado tuerto.\n",
      " City name is saint-georges.\n",
      " City name is port elizabeth.\n",
      " City name is bitkine.\n",
      " City name is fukue.\n",
      " City name is kabalo.\n",
      " City name is saint-augustin.\n",
      " City name is roald.\n",
      " City name is presidente epitacio.\n",
      " City name is bahir dar.\n",
      " City name is sri aman.\n",
      " City name is ahipara.\n",
      " City name is veraval.\n",
      " City name is miri.\n",
      " City name is khandyga.\n",
      " City name is sao joao da barra.\n",
      " City name is touros.\n",
      " City name is tiznit.\n",
      " City name is adria.\n",
      " City name is nachingwea.\n",
      " City name is poum.\n",
      " City name is alvaraes.\n",
      " City name is oistins.\n",
      " City name is kurilsk.\n",
      " City name is zhezkazgan.\n",
      " City name is moree.\n",
      " City name is priiskovyy.\n",
      " City name is boyolangu.\n",
      " City name is golden.\n",
      " City name is sabana de torres.\n",
      " City name is albanel.\n",
      " City name is flin flon.\n",
      " City name is baturaja.\n",
      " City name is zyryanka.\n",
      " City name is klaksvik.\n",
      " City name is usinsk.\n",
      " City name is severo-yeniseyskiy.\n",
      " City name is washington.\n",
      " City name is vila velha.\n",
      " City name is goderich.\n",
      " City name is longonjo.\n",
      " City name is santander.\n",
      " City name is lanivtsi.\n",
      " City name is brokopondo.\n",
      " City name is nanortalik.\n",
      " City name is khudumelapye.\n",
      " City name is mangrol.\n",
      " City name is srednekolymsk.\n",
      " City name is buraydah.\n",
      " City name is illapel.\n",
      " City name is srivardhan.\n",
      " City name is chiredzi.\n",
      " City name is orlik.\n",
      " City name is mirnyy.\n",
      " City name is tojsici.\n",
      " City name is opuwo.\n",
      " City name is kieta.\n",
      " City name is luderitz.\n",
      " City name is mattru.\n",
      " City name is broome.\n",
      " City name is sheridan.\n",
      " City name is thap khlo.\n",
      " City name is pachino.\n",
      " City name is inongo.\n",
      " City name is davila.\n",
      " City name is cockburn town.\n",
      " City name is bontang.\n",
      " City name is nyurba.\n",
      " City name is jega.\n",
      " City name is la ronge.\n",
      " City name is anadyr.\n",
      " City name is outram.\n",
      " City name is coleraine.\n",
      " City name is alice town.\n",
      " City name is norman wells.\n",
      " City name is kaniama.\n",
      " City name is kilosa.\n",
      " City name is russell.\n",
      " City name is mataram.\n",
      " City name is batu berendam.\n",
      " City name is batticaloa.\n",
      " City name is mocuba.\n",
      " City name is faanui.\n",
      " City name is sur.\n",
      " City name is novi knezevac.\n",
      " City name is beisfjord.\n",
      " City name is yerbogachen.\n",
      " City name is kristiansund.\n",
      " City name is ayan.\n",
      " City name is barra patuca.\n",
      " City name is sharkan.\n",
      " City name is poya.\n",
      " City name is arcata.\n",
      " City name is kontagora.\n",
      " City name is pacific grove.\n",
      " City name is petatlan.\n",
      " City name is camacha.\n",
      " City name is kuala selangor.\n",
      " City name is tamiahua.\n",
      " City name is lagoa.\n",
      " City name is kaka.\n",
      " City name is grindavik.\n",
      " City name is price.\n",
      " City name is tual.\n",
      " City name is fort morgan.\n",
      " City name is sibu.\n",
      " City name is meulaboh.\n",
      " City name is labuhan.\n",
      " City name is umm lajj.\n",
      " City name is corsicana.\n",
      " City name is henderson.\n",
      " City name is nicoya.\n",
      " City name is erenhot.\n",
      " City name is basco.\n",
      " City name is manokwari.\n",
      " City name is tabas.\n",
      " City name is fort nelson.\n",
      " City name is avera.\n",
      " City name is pasighat.\n",
      " City name is kasongo-lunda.\n",
      " City name is kara.\n",
      " City name is alakurtti.\n",
      " City name is iskitim.\n",
      " City name is tondano.\n",
      " City name is vostok.\n",
      " City name is magadan.\n",
      " City name is arlit.\n",
      " City name is aksu.\n",
      " City name is hambantota.\n",
      " City name is ancud.\n",
      " City name is moussoro.\n",
      " City name is tukrah.\n",
      " City name is montauban.\n",
      " City name is konstantinovka.\n",
      " City name is nambour.\n",
      " City name is raufoss.\n",
      " City name is santa helena de goias.\n",
      " City name is westport.\n",
      " City name is atar.\n",
      " City name is itarema.\n",
      " City name is mecca.\n",
      " City name is guhagar.\n",
      " City name is natal.\n",
      " City name is khunti.\n",
      " City name is odweyne.\n",
      " City name is adrar.\n",
      " City name is thabazimbi.\n",
      " City name is bay roberts.\n",
      " City name is gazojak.\n",
      " City name is tabou.\n",
      " City name is winnemucca.\n",
      " City name is tigil.\n",
      " City name is la baule-escoublac.\n",
      " City name is kutum.\n",
      " City name is kayalpattinam.\n",
      " City name is ozernovskiy.\n",
      " City name is mayor pablo lagerenza.\n",
      " City name is kalianget.\n",
      " City name is kirkwood.\n",
      " City name is teocaltiche.\n",
      " City name is port moresby.\n",
      " City name is san pedro.\n",
      " City name is wuwei.\n",
      " City name is labytnangi.\n",
      " City name is ulundi.\n",
      " City name is port hardy.\n",
      " City name is ola.\n",
      " City name is arona.\n",
      " City name is huarmey.\n",
      " City name is tucuman.\n",
      " City name is dudinka.\n",
      " City name is nhulunbuy.\n",
      " City name is salinas.\n",
      " City name is oyama.\n",
      " City name is maragogi.\n",
      " City name is gidole.\n",
      " City name is bambui.\n",
      " City name is kholodnyy.\n",
      " City name is la palma.\n",
      " City name is ostrovnoy.\n",
      " City name is kununurra.\n",
      " City name is kilemary.\n",
      " City name is walvis bay.\n",
      " City name is maniitsoq.\n",
      " City name is vetapalem.\n",
      " City name is solenzo.\n",
      " City name is ponta delgada.\n",
      " City name is agnibilekrou.\n",
      " City name is nieuw amsterdam.\n",
      " City name is solhan.\n",
      " City name is pangai.\n",
      " City name is buala.\n",
      " City name is kidal.\n",
      " City name is maarianhamina.\n",
      " City name is barra do garcas.\n",
      " City name is gwadar.\n",
      " City name is erdenet.\n",
      " City name is daru.\n",
      " City name is nouadhibou.\n",
      " City name is raton.\n"
     ]
    }
   ],
   "source": [
    "# Loop through random CityPy list\n",
    "for city in cities:\n",
    "    params[\"q\"] = city\n",
    "    response = requests.get(base_url, params)\n",
    "    response_json = response.json()\n",
    "    try:\n",
    "        City_Name.append(response_json['name'])\n",
    "        Country.append(response_json['sys']['country'])\n",
    "        City_ID.append(response_json['id'])\n",
    "        Date.append(response_json['dt'])\n",
    "        Lat.append(response_json['coord']['lat'])\n",
    "        Long.append(response_json['coord']['lon'])\n",
    "        Cloudiness.append(response_json['clouds']['all'])\n",
    "        Humidity.append(response_json['main']['humidity'])\n",
    "        Max_Temp.append(response_json['main']['temp_max'])\n",
    "        Wind_Speed.append(response_json['wind']['speed'])\n",
    "        print(f\" City name is {city}.\")\n",
    "    except:  \n",
    "        pass"
   ]
  },
  {
   "cell_type": "code",
   "execution_count": 11,
   "metadata": {},
   "outputs": [
    {
     "name": "stdout",
     "output_type": "stream",
     "text": [
      "563\n",
      "563\n",
      "563\n",
      "563\n",
      "563\n",
      "563\n",
      "563\n",
      "563\n",
      "563\n"
     ]
    }
   ],
   "source": [
    "print(len(Country))\n",
    "print(len(City_ID))\n",
    "print(len(Date))\n",
    "print(len(Lat))\n",
    "print(len(Long))\n",
    "print(len(Cloudiness))\n",
    "print(len(Humidity))\n",
    "print(len(Max_Temp))\n",
    "print(len(Wind_Speed))"
   ]
  },
  {
   "cell_type": "markdown",
   "metadata": {},
   "source": [
    "### Convert Raw Data to DataFrame\n",
    "* Export the city data into a .csv.\n",
    "* Display the DataFrame"
   ]
  },
  {
   "cell_type": "code",
   "execution_count": 7,
   "metadata": {},
   "outputs": [
    {
     "data": {
      "text/html": [
       "<div>\n",
       "<style scoped>\n",
       "    .dataframe tbody tr th:only-of-type {\n",
       "        vertical-align: middle;\n",
       "    }\n",
       "\n",
       "    .dataframe tbody tr th {\n",
       "        vertical-align: top;\n",
       "    }\n",
       "\n",
       "    .dataframe thead th {\n",
       "        text-align: right;\n",
       "    }\n",
       "</style>\n",
       "<table border=\"1\" class=\"dataframe\">\n",
       "  <thead>\n",
       "    <tr style=\"text-align: right;\">\n",
       "      <th></th>\n",
       "      <th>City</th>\n",
       "      <th>Country</th>\n",
       "      <th>City_ID</th>\n",
       "      <th>Date</th>\n",
       "      <th>Lat</th>\n",
       "      <th>Long</th>\n",
       "      <th>Cloudiness</th>\n",
       "      <th>Humidity</th>\n",
       "      <th>Max_Temp</th>\n",
       "      <th>Wind_Speed</th>\n",
       "    </tr>\n",
       "  </thead>\n",
       "  <tbody>\n",
       "    <tr>\n",
       "      <td>0</td>\n",
       "      <td>Airai</td>\n",
       "      <td>TL</td>\n",
       "      <td>1651810</td>\n",
       "      <td>1584324058</td>\n",
       "      <td>-8.93</td>\n",
       "      <td>125.41</td>\n",
       "      <td>97</td>\n",
       "      <td>58</td>\n",
       "      <td>80.28</td>\n",
       "      <td>5.86</td>\n",
       "    </tr>\n",
       "    <tr>\n",
       "      <td>1</td>\n",
       "      <td>Kangaatsiaq</td>\n",
       "      <td>GL</td>\n",
       "      <td>3422683</td>\n",
       "      <td>1584324028</td>\n",
       "      <td>68.31</td>\n",
       "      <td>-53.46</td>\n",
       "      <td>100</td>\n",
       "      <td>92</td>\n",
       "      <td>0.99</td>\n",
       "      <td>12.53</td>\n",
       "    </tr>\n",
       "    <tr>\n",
       "      <td>2</td>\n",
       "      <td>Jamestown</td>\n",
       "      <td>US</td>\n",
       "      <td>5122534</td>\n",
       "      <td>1584324008</td>\n",
       "      <td>42.10</td>\n",
       "      <td>-79.24</td>\n",
       "      <td>1</td>\n",
       "      <td>39</td>\n",
       "      <td>30.99</td>\n",
       "      <td>4.70</td>\n",
       "    </tr>\n",
       "    <tr>\n",
       "      <td>3</td>\n",
       "      <td>Talcahuano</td>\n",
       "      <td>CL</td>\n",
       "      <td>3870282</td>\n",
       "      <td>1584324059</td>\n",
       "      <td>-36.72</td>\n",
       "      <td>-73.12</td>\n",
       "      <td>0</td>\n",
       "      <td>67</td>\n",
       "      <td>60.80</td>\n",
       "      <td>13.87</td>\n",
       "    </tr>\n",
       "    <tr>\n",
       "      <td>4</td>\n",
       "      <td>Slavyanka</td>\n",
       "      <td>RU</td>\n",
       "      <td>2016430</td>\n",
       "      <td>1584324059</td>\n",
       "      <td>42.86</td>\n",
       "      <td>131.38</td>\n",
       "      <td>81</td>\n",
       "      <td>41</td>\n",
       "      <td>34.86</td>\n",
       "      <td>4.70</td>\n",
       "    </tr>\n",
       "  </tbody>\n",
       "</table>\n",
       "</div>"
      ],
      "text/plain": [
       "          City Country  City_ID        Date    Lat    Long  Cloudiness  \\\n",
       "0        Airai      TL  1651810  1584324058  -8.93  125.41          97   \n",
       "1  Kangaatsiaq      GL  3422683  1584324028  68.31  -53.46         100   \n",
       "2    Jamestown      US  5122534  1584324008  42.10  -79.24           1   \n",
       "3   Talcahuano      CL  3870282  1584324059 -36.72  -73.12           0   \n",
       "4    Slavyanka      RU  2016430  1584324059  42.86  131.38          81   \n",
       "\n",
       "   Humidity  Max_Temp  Wind_Speed  \n",
       "0        58     80.28        5.86  \n",
       "1        92      0.99       12.53  \n",
       "2        39     30.99        4.70  \n",
       "3        67     60.80       13.87  \n",
       "4        41     34.86        4.70  "
      ]
     },
     "execution_count": 7,
     "metadata": {},
     "output_type": "execute_result"
    }
   ],
   "source": [
    "# create a data frame from cities, and api information\n",
    "weather_dict = {\n",
    "    \"City\": City_Name,\n",
    "    \"Country\" : Country,\n",
    "    \"City_ID\" : City_ID,\n",
    "    \"Date\" : Date,\n",
    "    \"Lat\" : Lat,\n",
    "    \"Long\" : Long,\n",
    "    \"Cloudiness\" : Cloudiness,\n",
    "    \"Humidity\" : Humidity,\n",
    "    \"Max_Temp\" : Max_Temp,\n",
    "    \"Wind_Speed\" : Wind_Speed\n",
    "}\n",
    "\n",
    "weather_data = pd.DataFrame(weather_dict)\n",
    "weather_data.head()"
   ]
  },
  {
   "cell_type": "code",
   "execution_count": 54,
   "metadata": {},
   "outputs": [],
   "source": [
    "# Export weather data to CSV\n",
    "weather_data.to_csv(output_data_file)"
   ]
  },
  {
   "cell_type": "markdown",
   "metadata": {},
   "source": [
    "### Plotting the Data\n",
    "* Use proper labeling of the plots using plot titles (including date of analysis) and axes labels.\n",
    "* Save the plotted figures as .pngs."
   ]
  },
  {
   "cell_type": "markdown",
   "metadata": {},
   "source": [
    "#### Latitude vs. Temperature Plot"
   ]
  },
  {
   "cell_type": "code",
   "execution_count": 39,
   "metadata": {
    "scrolled": false
   },
   "outputs": [
    {
     "data": {
      "image/png": "[encoded data removed]",
      "text/plain": [
       "<Figure size 432x288 with 1 Axes>"
      ]
     },
     "metadata": {
      "needs_background": "light"
     },
     "output_type": "display_data"
    }
   ],
   "source": [
    "# Build a scatter plot\n",
    "plt.scatter(weather_data[\"Lat\"], weather_data[\"Max_Temp\"], marker=\"o\")\n",
    "\n",
    "# Incorporate the other graph properties\n",
    "plt.title(\"City Latitude vs. Max Temperature\")\n",
    "plt.ylabel(\"Max Temperature (F)\")\n",
    "plt.xlabel(\"Latitude\")\n",
    "plt.grid(True)\n",
    "\n",
    "# Save the figure & plot\n",
    "plt.savefig(\"Lat-v-Temp.png\")\n",
    "plt.show()"
   ]
  },
  {
   "cell_type": "markdown",
   "metadata": {},
   "source": [
    "* The code above is plotting latitude versus max temperature for a given day across 563 cities in the world.\n",
    "* There is a strong relationship between latitude and max temperature.\n",
    "* Positive latitude values (northern parts of the world) are showing warmer temperatures as compared to negative latitude values (southern parts of the world)."
   ]
  },
  {
   "cell_type": "markdown",
   "metadata": {},
   "source": [
    "#### Latitude vs. Humidity Plot"
   ]
  },
  {
   "cell_type": "code",
   "execution_count": 40,
   "metadata": {},
   "outputs": [
    {
     "data": {
      "image/png": "[encoded data removed]",
      "text/plain": [
       "<Figure size 432x288 with 1 Axes>"
      ]
     },
     "metadata": {
      "needs_background": "light"
     },
     "output_type": "display_data"
    }
   ],
   "source": [
    "# Build a scatter plot\n",
    "plt.scatter(weather_data[\"Lat\"], weather_data[\"Humidity\"], marker=\"o\")\n",
    "\n",
    "# Incorporate the other graph properties\n",
    "plt.title(\"City Latitude vs. Humidity\")\n",
    "plt.ylabel(\"Humidity (%)\")\n",
    "plt.xlabel(\"Latitude\")\n",
    "plt.grid(True)\n",
    "\n",
    "# Save the figure & plot\n",
    "plt.savefig(\"Lat-v-Humidity.png\")\n",
    "plt.show()"
   ]
  },
  {
   "cell_type": "markdown",
   "metadata": {},
   "source": [
    "* The code above is plotting latitude versus humidity for a given day across 563 cities in the world.\n",
    "* Based off the chart,  there is no relationship/correlation between the latitude and humidity %.\n",
    "* On this particular day, humidity trended high across a large percentage of the cities."
   ]
  },
  {
   "cell_type": "markdown",
   "metadata": {},
   "source": [
    "#### Latitude vs. Cloudiness Plot"
   ]
  },
  {
   "cell_type": "code",
   "execution_count": 41,
   "metadata": {},
   "outputs": [
    {
     "data": {
      "image/png": "[encoded data removed]",
      "text/plain": [
       "<Figure size 432x288 with 1 Axes>"
      ]
     },
     "metadata": {
      "needs_background": "light"
     },
     "output_type": "display_data"
    }
   ],
   "source": [
    "# Build a scatter plot\n",
    "plt.scatter(weather_data[\"Lat\"], weather_data[\"Cloudiness\"], marker=\"o\")\n",
    "\n",
    "# Incorporate the other graph properties\n",
    "plt.title(\"City Latitude vs. Cloudiness\")\n",
    "plt.ylabel(\"Cloudiness (%)\")\n",
    "plt.xlabel(\"Latitude\")\n",
    "plt.grid(True)\n",
    "\n",
    "# Save the figure & plot\n",
    "plt.savefig(\"Lat-v-Cloudiness.png\")\n",
    "plt.show()"
   ]
  },
  {
   "cell_type": "markdown",
   "metadata": {},
   "source": [
    "* The code above is plotting latitude versus cloudiness % for a given day across 563 cities in the world.\n",
    "* There doesn't seem to be a strong relationship/correlation between the latitude and cloudiness %.\n",
    "* The humidity varies quite a bit across all the cities regarless of latitude (seeing some data clusters)."
   ]
  },
  {
   "cell_type": "markdown",
   "metadata": {},
   "source": [
    "#### Latitude vs. Wind Speed Plot"
   ]
  },
  {
   "cell_type": "code",
   "execution_count": 42,
   "metadata": {},
   "outputs": [
    {
     "data": {
      "image/png": "[encoded data removed]",
      "text/plain": [
       "<Figure size 432x288 with 1 Axes>"
      ]
     },
     "metadata": {
      "needs_background": "light"
     },
     "output_type": "display_data"
    }
   ],
   "source": [
    "# Build a scatter plot\n",
    "plt.scatter(weather_data[\"Lat\"], weather_data[\"Wind_Speed\"], marker=\"o\")\n",
    "\n",
    "# Incorporate the other graph properties\n",
    "plt.title(\"City Latitude vs. Wind Speed\")\n",
    "plt.ylabel(\"Wind Speed (mph)\")\n",
    "plt.xlabel(\"Latitude\")\n",
    "plt.grid(True)\n",
    "\n",
    "# Save the figure & plot\n",
    "plt.savefig(\"Lat-v-Windspeed.png\")\n",
    "plt.show()"
   ]
  },
  {
   "cell_type": "markdown",
   "metadata": {},
   "source": [
    "* The code above is plotting latitude versus wind speed (mph) for a given day across 563 cities in the world.\n",
    "* There doesn't seem to be a strong relationship/correlation between the latitude and wind speed.\n",
    "* The wind speed is heavily between 0-20% with some outliers on this given day."
   ]
  },
  {
   "cell_type": "markdown",
   "metadata": {},
   "source": [
    "## Linear Regression"
   ]
  },
  {
   "cell_type": "code",
   "execution_count": 43,
   "metadata": {},
   "outputs": [],
   "source": [
    "# OPTIONAL: Create a function to create Linear Regression plots"
   ]
  },
  {
   "cell_type": "code",
   "execution_count": 44,
   "metadata": {},
   "outputs": [
    {
     "data": {
      "text/html": [
       "<div>\n",
       "<style scoped>\n",
       "    .dataframe tbody tr th:only-of-type {\n",
       "        vertical-align: middle;\n",
       "    }\n",
       "\n",
       "    .dataframe tbody tr th {\n",
       "        vertical-align: top;\n",
       "    }\n",
       "\n",
       "    .dataframe thead th {\n",
       "        text-align: right;\n",
       "    }\n",
       "</style>\n",
       "<table border=\"1\" class=\"dataframe\">\n",
       "  <thead>\n",
       "    <tr style=\"text-align: right;\">\n",
       "      <th></th>\n",
       "      <th>City</th>\n",
       "      <th>Country</th>\n",
       "      <th>City_ID</th>\n",
       "      <th>Date</th>\n",
       "      <th>Lat</th>\n",
       "      <th>Long</th>\n",
       "      <th>Cloudiness</th>\n",
       "      <th>Humidity</th>\n",
       "      <th>Max_Temp</th>\n",
       "      <th>Wind_Speed</th>\n",
       "    </tr>\n",
       "  </thead>\n",
       "  <tbody>\n",
       "    <tr>\n",
       "      <td>1</td>\n",
       "      <td>Kangaatsiaq</td>\n",
       "      <td>GL</td>\n",
       "      <td>3422683</td>\n",
       "      <td>1584324028</td>\n",
       "      <td>68.31</td>\n",
       "      <td>-53.46</td>\n",
       "      <td>100</td>\n",
       "      <td>92</td>\n",
       "      <td>0.99</td>\n",
       "      <td>12.53</td>\n",
       "    </tr>\n",
       "    <tr>\n",
       "      <td>2</td>\n",
       "      <td>Jamestown</td>\n",
       "      <td>US</td>\n",
       "      <td>5122534</td>\n",
       "      <td>1584324008</td>\n",
       "      <td>42.10</td>\n",
       "      <td>-79.24</td>\n",
       "      <td>1</td>\n",
       "      <td>39</td>\n",
       "      <td>30.99</td>\n",
       "      <td>4.70</td>\n",
       "    </tr>\n",
       "    <tr>\n",
       "      <td>4</td>\n",
       "      <td>Slavyanka</td>\n",
       "      <td>RU</td>\n",
       "      <td>2016430</td>\n",
       "      <td>1584324059</td>\n",
       "      <td>42.86</td>\n",
       "      <td>131.38</td>\n",
       "      <td>81</td>\n",
       "      <td>41</td>\n",
       "      <td>34.86</td>\n",
       "      <td>4.70</td>\n",
       "    </tr>\n",
       "    <tr>\n",
       "      <td>5</td>\n",
       "      <td>Zatoka</td>\n",
       "      <td>UA</td>\n",
       "      <td>687557</td>\n",
       "      <td>1584324059</td>\n",
       "      <td>46.07</td>\n",
       "      <td>30.47</td>\n",
       "      <td>0</td>\n",
       "      <td>63</td>\n",
       "      <td>26.60</td>\n",
       "      <td>6.71</td>\n",
       "    </tr>\n",
       "    <tr>\n",
       "      <td>6</td>\n",
       "      <td>Portland</td>\n",
       "      <td>US</td>\n",
       "      <td>5746545</td>\n",
       "      <td>1584324050</td>\n",
       "      <td>45.52</td>\n",
       "      <td>-122.68</td>\n",
       "      <td>20</td>\n",
       "      <td>41</td>\n",
       "      <td>45.00</td>\n",
       "      <td>24.16</td>\n",
       "    </tr>\n",
       "  </tbody>\n",
       "</table>\n",
       "</div>"
      ],
      "text/plain": [
       "          City Country  City_ID        Date    Lat    Long  Cloudiness  \\\n",
       "1  Kangaatsiaq      GL  3422683  1584324028  68.31  -53.46         100   \n",
       "2    Jamestown      US  5122534  1584324008  42.10  -79.24           1   \n",
       "4    Slavyanka      RU  2016430  1584324059  42.86  131.38          81   \n",
       "5       Zatoka      UA   687557  1584324059  46.07   30.47           0   \n",
       "6     Portland      US  5746545  1584324050  45.52 -122.68          20   \n",
       "\n",
       "   Humidity  Max_Temp  Wind_Speed  \n",
       "1        92      0.99       12.53  \n",
       "2        39     30.99        4.70  \n",
       "4        41     34.86        4.70  \n",
       "5        63     26.60        6.71  \n",
       "6        41     45.00       24.16  "
      ]
     },
     "execution_count": 44,
     "metadata": {},
     "output_type": "execute_result"
    }
   ],
   "source": [
    "# Create Northern Hemisphere DataFrame\n",
    "North_df = weather_data.loc[weather_data[\"Lat\"] >= 0.00 , :]\n",
    "North_df.head()"
   ]
  },
  {
   "cell_type": "code",
   "execution_count": 45,
   "metadata": {},
   "outputs": [
    {
     "data": {
      "text/html": [
       "<div>\n",
       "<style scoped>\n",
       "    .dataframe tbody tr th:only-of-type {\n",
       "        vertical-align: middle;\n",
       "    }\n",
       "\n",
       "    .dataframe tbody tr th {\n",
       "        vertical-align: top;\n",
       "    }\n",
       "\n",
       "    .dataframe thead th {\n",
       "        text-align: right;\n",
       "    }\n",
       "</style>\n",
       "<table border=\"1\" class=\"dataframe\">\n",
       "  <thead>\n",
       "    <tr style=\"text-align: right;\">\n",
       "      <th></th>\n",
       "      <th>City</th>\n",
       "      <th>Country</th>\n",
       "      <th>City_ID</th>\n",
       "      <th>Date</th>\n",
       "      <th>Lat</th>\n",
       "      <th>Long</th>\n",
       "      <th>Cloudiness</th>\n",
       "      <th>Humidity</th>\n",
       "      <th>Max_Temp</th>\n",
       "      <th>Wind_Speed</th>\n",
       "    </tr>\n",
       "  </thead>\n",
       "  <tbody>\n",
       "    <tr>\n",
       "      <td>0</td>\n",
       "      <td>Airai</td>\n",
       "      <td>TL</td>\n",
       "      <td>1651810</td>\n",
       "      <td>1584324058</td>\n",
       "      <td>-8.93</td>\n",
       "      <td>125.41</td>\n",
       "      <td>97</td>\n",
       "      <td>58</td>\n",
       "      <td>80.28</td>\n",
       "      <td>5.86</td>\n",
       "    </tr>\n",
       "    <tr>\n",
       "      <td>3</td>\n",
       "      <td>Talcahuano</td>\n",
       "      <td>CL</td>\n",
       "      <td>3870282</td>\n",
       "      <td>1584324059</td>\n",
       "      <td>-36.72</td>\n",
       "      <td>-73.12</td>\n",
       "      <td>0</td>\n",
       "      <td>67</td>\n",
       "      <td>60.80</td>\n",
       "      <td>13.87</td>\n",
       "    </tr>\n",
       "    <tr>\n",
       "      <td>7</td>\n",
       "      <td>Bambanglipuro</td>\n",
       "      <td>ID</td>\n",
       "      <td>1650434</td>\n",
       "      <td>1584324059</td>\n",
       "      <td>-7.95</td>\n",
       "      <td>110.28</td>\n",
       "      <td>7</td>\n",
       "      <td>66</td>\n",
       "      <td>85.93</td>\n",
       "      <td>7.96</td>\n",
       "    </tr>\n",
       "    <tr>\n",
       "      <td>8</td>\n",
       "      <td>Puerto Ayora</td>\n",
       "      <td>EC</td>\n",
       "      <td>3652764</td>\n",
       "      <td>1584324060</td>\n",
       "      <td>-0.74</td>\n",
       "      <td>-90.35</td>\n",
       "      <td>40</td>\n",
       "      <td>78</td>\n",
       "      <td>80.60</td>\n",
       "      <td>6.93</td>\n",
       "    </tr>\n",
       "    <tr>\n",
       "      <td>11</td>\n",
       "      <td>Kimbe</td>\n",
       "      <td>PG</td>\n",
       "      <td>2093967</td>\n",
       "      <td>1584324060</td>\n",
       "      <td>-5.55</td>\n",
       "      <td>150.14</td>\n",
       "      <td>100</td>\n",
       "      <td>63</td>\n",
       "      <td>86.05</td>\n",
       "      <td>5.32</td>\n",
       "    </tr>\n",
       "  </tbody>\n",
       "</table>\n",
       "</div>"
      ],
      "text/plain": [
       "             City Country  City_ID        Date    Lat    Long  Cloudiness  \\\n",
       "0           Airai      TL  1651810  1584324058  -8.93  125.41          97   \n",
       "3      Talcahuano      CL  3870282  1584324059 -36.72  -73.12           0   \n",
       "7   Bambanglipuro      ID  1650434  1584324059  -7.95  110.28           7   \n",
       "8    Puerto Ayora      EC  3652764  1584324060  -0.74  -90.35          40   \n",
       "11          Kimbe      PG  2093967  1584324060  -5.55  150.14         100   \n",
       "\n",
       "    Humidity  Max_Temp  Wind_Speed  \n",
       "0         58     80.28        5.86  \n",
       "3         67     60.80       13.87  \n",
       "7         66     85.93        7.96  \n",
       "8         78     80.60        6.93  \n",
       "11        63     86.05        5.32  "
      ]
     },
     "execution_count": 45,
     "metadata": {},
     "output_type": "execute_result"
    }
   ],
   "source": [
    "# Create Southern Hemisphere DataFrames\n",
    "South_df = weather_data.loc[weather_data[\"Lat\"] < 0.00 , :]\n",
    "South_df.head()"
   ]
  },
  {
   "cell_type": "markdown",
   "metadata": {},
   "source": [
    "####  Northern Hemisphere - Max Temp vs. Latitude Linear Regression"
   ]
  },
  {
   "cell_type": "code",
   "execution_count": 46,
   "metadata": {},
   "outputs": [
    {
     "data": {
      "image/png": "[encoded data removed]",
      "text/plain": [
       "<Figure size 432x288 with 1 Axes>"
      ]
     },
     "metadata": {
      "needs_background": "light"
     },
     "output_type": "display_data"
    }
   ],
   "source": [
    "# Northern hemisphere linear regression\n",
    "x_values = North_df['Lat']\n",
    "y_values = North_df['Max_Temp']\n",
    "\n",
    "#Line equation\n",
    "(slope, intercept, rvalue, pvalue, stderr) = linregress(x_values, y_values)\n",
    "regress_values = x_values * slope + intercept\n",
    "line_eq = \"y = \" + str(round(slope,2)) + \"x + \" + str(round(intercept,2))\n",
    "\n",
    "# Build a scatter plot\n",
    "plt.scatter(x_values,y_values)\n",
    "plt.plot(x_values,regress_values,\"r-\")\n",
    "plt.annotate(line_eq,(6,10),fontsize=15,color=\"red\")\n",
    "\n",
    "# Incorporate the other graph properties\n",
    "plt.title(\"Northern Hemisphere - Max Temp vs. Latitude\")\n",
    "plt.xlabel('Latitude')\n",
    "plt.ylabel('Max Temperature (F)')\n",
    "plt.grid(True)\n",
    "\n",
    "# Save the figure & plot\n",
    "plt.savefig(\"N_LR_Lat-v-Temp.png\")\n",
    "plt.show()"
   ]
  },
  {
   "cell_type": "markdown",
   "metadata": {},
   "source": [
    "####  Southern Hemisphere - Max Temp vs. Latitude Linear Regression"
   ]
  },
  {
   "cell_type": "code",
   "execution_count": 47,
   "metadata": {},
   "outputs": [
    {
     "data": {
      "image/png": "[encoded data removed]",
      "text/plain": [
       "<Figure size 432x288 with 1 Axes>"
      ]
     },
     "metadata": {
      "needs_background": "light"
     },
     "output_type": "display_data"
    }
   ],
   "source": [
    "# Southern hemisphere linear regression\n",
    "x_values = South_df['Lat']\n",
    "y_values = South_df['Max_Temp']\n",
    "\n",
    "#Line equation\n",
    "(slope, intercept, rvalue, pvalue, stderr) = linregress(x_values, y_values)\n",
    "regress_values = x_values * slope + intercept\n",
    "line_eq = \"y = \" + str(round(slope,2)) + \"x + \" + str(round(intercept,2))\n",
    "\n",
    "# Build a scatter plot\n",
    "plt.scatter(x_values,y_values)\n",
    "plt.plot(x_values,regress_values,\"r-\")\n",
    "plt.annotate(line_eq,(-25,60),fontsize=15,color=\"red\")\n",
    "\n",
    "# Incorporate the other graph properties\n",
    "plt.title(\"Southern Hemisphere - Max Temp vs. Latitude\")\n",
    "plt.xlabel('Latitude')\n",
    "plt.ylabel('Max Temperature (F)')\n",
    "plt.grid(True)\n",
    "\n",
    "# Save the figure & plot\n",
    "plt.savefig(\"S_LR_Lat-v-Temp.png\")\n",
    "plt.show()"
   ]
  },
  {
   "cell_type": "markdown",
   "metadata": {},
   "source": [
    "Northern and Southern Hemisphere - Max Temp vs. Latitude Linear Regressions:\n",
    "* The north and southern hemispheres have an inverse relationship.\n",
    "* The north and south show warmer temperatures closer to the equator (lat = 0) and cooler temperatures as their latitude moves from the equator. \n",
    "* The north hemisphere has a better fit with less variability as compared to the southern hemisphere."
   ]
  },
  {
   "cell_type": "markdown",
   "metadata": {},
   "source": [
    "####  Northern Hemisphere - Humidity (%) vs. Latitude Linear Regression"
   ]
  },
  {
   "cell_type": "code",
   "execution_count": 48,
   "metadata": {},
   "outputs": [
    {
     "data": {
      "image/png": "[encoded data removed]",
      "text/plain": [
       "<Figure size 432x288 with 1 Axes>"
      ]
     },
     "metadata": {
      "needs_background": "light"
     },
     "output_type": "display_data"
    }
   ],
   "source": [
    "# Northern hemisphere linear regression\n",
    "x_values = North_df['Lat']\n",
    "y_values = North_df['Humidity']\n",
    "\n",
    "#Line equation\n",
    "(slope, intercept, rvalue, pvalue, stderr) = linregress(x_values, y_values)\n",
    "regress_values = x_values * slope + intercept\n",
    "line_eq = \"y = \" + str(round(slope,2)) + \"x + \" + str(round(intercept,2))\n",
    "\n",
    "# Build a scatter plot\n",
    "plt.scatter(x_values,y_values)\n",
    "plt.plot(x_values,regress_values,\"r-\")\n",
    "plt.annotate(line_eq,(45,25),fontsize=15,color=\"red\")\n",
    "\n",
    "# Incorporate the other graph properties\n",
    "plt.title(\"Northern Hemisphere - Humidity vs. Latitude\")\n",
    "plt.xlabel('Latitude')\n",
    "plt.ylabel('Humidity (%)')\n",
    "plt.grid(True)\n",
    "\n",
    "# Save the figure & plot\n",
    "plt.savefig(\"N_LR_Lat-v-Humidity.png\")\n",
    "plt.show()"
   ]
  },
  {
   "cell_type": "markdown",
   "metadata": {},
   "source": [
    "####  Southern Hemisphere - Humidity (%) vs. Latitude Linear Regression"
   ]
  },
  {
   "cell_type": "code",
   "execution_count": 49,
   "metadata": {},
   "outputs": [
    {
     "data": {
      "image/png": "[encoded data removed]",
      "text/plain": [
       "<Figure size 432x288 with 1 Axes>"
      ]
     },
     "metadata": {
      "needs_background": "light"
     },
     "output_type": "display_data"
    }
   ],
   "source": [
    "# Southern hemisphere linear regression\n",
    "x_values = South_df['Lat']\n",
    "y_values = South_df['Humidity']\n",
    "\n",
    "#Line equation\n",
    "(slope, intercept, rvalue, pvalue, stderr) = linregress(x_values, y_values)\n",
    "regress_values = x_values * slope + intercept\n",
    "line_eq = \"y = \" + str(round(slope,2)) + \"x + \" + str(round(intercept,2))\n",
    "\n",
    "# Build a scatter plot\n",
    "plt.scatter(x_values,y_values)\n",
    "plt.plot(x_values,regress_values,\"r-\")\n",
    "plt.annotate(line_eq,(-25,20),fontsize=15,color=\"red\")\n",
    "\n",
    "# Incorporate the other graph properties\n",
    "plt.title(\"Southern Hemisphere - Humidity vs. Latitude\")\n",
    "plt.xlabel('Latitude')\n",
    "plt.ylabel('Humidity (%)')\n",
    "plt.grid(True)\n",
    "\n",
    "# Save the figure & plot\n",
    "plt.savefig(\"S_LR_Lat-v-Humidity.png\")\n",
    "plt.show()"
   ]
  },
  {
   "cell_type": "markdown",
   "metadata": {},
   "source": [
    "Northern and Southern Hemisphere - Humidity (%) vs. Latitude Linear Regression:\n",
    "* Both regions show a positive slope, with lots of variability in the data."
   ]
  },
  {
   "cell_type": "markdown",
   "metadata": {},
   "source": [
    "####  Northern Hemisphere - Cloudiness (%) vs. Latitude Linear Regression"
   ]
  },
  {
   "cell_type": "code",
   "execution_count": 50,
   "metadata": {},
   "outputs": [
    {
     "data": {
      "image/png": "[encoded data removed]",
      "text/plain": [
       "<Figure size 432x288 with 1 Axes>"
      ]
     },
     "metadata": {
      "needs_background": "light"
     },
     "output_type": "display_data"
    }
   ],
   "source": [
    "# Northern hemisphere linear regression\n",
    "x_values = North_df['Lat']\n",
    "y_values = North_df['Cloudiness']\n",
    "\n",
    "#Line equation\n",
    "(slope, intercept, rvalue, pvalue, stderr) = linregress(x_values, y_values)\n",
    "regress_values = x_values * slope + intercept\n",
    "line_eq = \"y = \" + str(round(slope,2)) + \"x + \" + str(round(intercept,2))\n",
    "\n",
    "# Build a scatter plot\n",
    "plt.scatter(x_values,y_values)\n",
    "plt.plot(x_values,regress_values,\"r-\")\n",
    "plt.annotate(line_eq,(45,25),fontsize=15,color=\"red\")\n",
    "\n",
    "# Incorporate the other graph properties\n",
    "plt.title(\"Northern Hemisphere - Cloudiness vs. Latitude\")\n",
    "plt.xlabel('Latitude')\n",
    "plt.ylabel('Cloudiness (%)')\n",
    "plt.grid(True)\n",
    "\n",
    "# Save the figure & plot\n",
    "plt.savefig(\"N_LR_Lat-v-Cloudiness.png\")\n",
    "plt.show()"
   ]
  },
  {
   "cell_type": "markdown",
   "metadata": {},
   "source": [
    "####  Southern Hemisphere - Cloudiness (%) vs. Latitude Linear Regression"
   ]
  },
  {
   "cell_type": "code",
   "execution_count": 51,
   "metadata": {},
   "outputs": [
    {
     "data": {
      "image/png": "[encoded data removed]",
      "text/plain": [
       "<Figure size 432x288 with 1 Axes>"
      ]
     },
     "metadata": {
      "needs_background": "light"
     },
     "output_type": "display_data"
    }
   ],
   "source": [
    "# Southern hemisphere linear regression\n",
    "x_values = South_df['Lat']\n",
    "y_values = South_df['Cloudiness']\n",
    "\n",
    "#Line equation\n",
    "(slope, intercept, rvalue, pvalue, stderr) = linregress(x_values, y_values)\n",
    "regress_values = x_values * slope + intercept\n",
    "line_eq = \"y = \" + str(round(slope,2)) + \"x + \" + str(round(intercept,2))\n",
    "\n",
    "# Build a scatter plot\n",
    "plt.scatter(x_values,y_values)\n",
    "plt.plot(x_values,regress_values,\"r-\")\n",
    "plt.annotate(line_eq,(-25,25),fontsize=15,color=\"red\")\n",
    "\n",
    "# Incorporate the other graph properties\n",
    "plt.title(\"Southern Hemisphere - Max Temp vs. Cloudiness\")\n",
    "plt.xlabel('Latitude')\n",
    "plt.ylabel('Cloudiness (%)')\n",
    "plt.grid(True)\n",
    "\n",
    "# Save the figure & plot\n",
    "plt.savefig(\"S_LR_Lat-v-Cloudiness.png\")\n",
    "plt.show()"
   ]
  },
  {
   "cell_type": "markdown",
   "metadata": {},
   "source": [
    "Northern and Southern Hemisphere - Cloudiness (%) vs. Latitude Linear Regression:\n",
    "* Both show a positive slope\n",
    "* Both data sets show lots of variability with clusters of data."
   ]
  },
  {
   "cell_type": "markdown",
   "metadata": {},
   "source": [
    "####  Northern Hemisphere - Wind Speed (mph) vs. Latitude Linear Regression"
   ]
  },
  {
   "cell_type": "code",
   "execution_count": 52,
   "metadata": {},
   "outputs": [
    {
     "data": {
      "image/png": "[encoded data removed]",
      "text/plain": [
       "<Figure size 432x288 with 1 Axes>"
      ]
     },
     "metadata": {
      "needs_background": "light"
     },
     "output_type": "display_data"
    }
   ],
   "source": [
    "# Northern hemisphere linear regression\n",
    "x_values = North_df['Lat']\n",
    "y_values = North_df['Wind_Speed']\n",
    "\n",
    "#Line equation\n",
    "(slope, intercept, rvalue, pvalue, stderr) = linregress(x_values, y_values)\n",
    "regress_values = x_values * slope + intercept\n",
    "line_eq = \"y = \" + str(round(slope,2)) + \"x + \" + str(round(intercept,2))\n",
    "\n",
    "# Build a scatter plot\n",
    "plt.scatter(x_values,y_values)\n",
    "plt.plot(x_values,regress_values,\"r-\")\n",
    "plt.annotate(line_eq,(10,40),fontsize=15,color=\"red\")\n",
    "\n",
    "# Incorporate the other graph properties\n",
    "plt.title(\"Northern Hemisphere - Max Temp vs. Wind Speed\")\n",
    "plt.xlabel('Latitude')\n",
    "plt.ylabel('Wind Speed (mph)')\n",
    "plt.grid(True)\n",
    "\n",
    "# Save the figure & plot\n",
    "plt.savefig(\"N_LR_Lat-v-WS.png\")\n",
    "plt.show()"
   ]
  },
  {
   "cell_type": "markdown",
   "metadata": {},
   "source": [
    "####  Southern Hemisphere - Wind Speed (mph) vs. Latitude Linear Regression"
   ]
  },
  {
   "cell_type": "code",
   "execution_count": 53,
   "metadata": {
    "scrolled": true
   },
   "outputs": [
    {
     "data": {
      "image/png": "[encoded data removed]",
      "text/plain": [
       "<Figure size 432x288 with 1 Axes>"
      ]
     },
     "metadata": {
      "needs_background": "light"
     },
     "output_type": "display_data"
    }
   ],
   "source": [
    "# Southern hemisphere linear regression\n",
    "x_values = South_df['Lat']\n",
    "y_values = South_df['Wind_Speed']\n",
    "\n",
    "#Line equation\n",
    "(slope, intercept, rvalue, pvalue, stderr) = linregress(x_values, y_values)\n",
    "regress_values = x_values * slope + intercept\n",
    "line_eq = \"y = \" + str(round(slope,2)) + \"x + \" + str(round(intercept,2))\n",
    "\n",
    "# Build a scatter plot\n",
    "plt.scatter(x_values,y_values)\n",
    "plt.plot(x_values,regress_values,\"r-\")\n",
    "plt.annotate(line_eq,(-50,25),fontsize=15,color=\"red\")\n",
    "\n",
    "# Incorporate the other graph properties\n",
    "plt.title(\"Southern Hemisphere - Max Temp vs. Wind Speed\")\n",
    "plt.xlabel('Latitude')\n",
    "plt.ylabel('Wind Speed (mph)')\n",
    "plt.grid(True)\n",
    "\n",
    "# Save the figure & plot\n",
    "plt.savefig(\"S_LR_Lat-v-WS.png\")\n",
    "plt.show()"
   ]
  },
  {
   "cell_type": "markdown",
   "metadata": {},
   "source": [
    "Northern and Southern Hemisphere - Wind Speed (mph) vs. Latitude Linear Regression:\n",
    "* The northern hemisphere shows a slightly positive slope while the southern exhibits a negative slope.\n",
    "* The north and south are slightly windier as you move further from the equator."
   ]
  }
 ],
 "metadata": {
  "anaconda-cloud": {},
  "kernel_info": {
   "name": "python3"
  },
  "kernelspec": {
   "display_name": "Python 3",
   "language": "python",
   "name": "python3"
  },
  "language_info": {
   "codemirror_mode": {
    "name": "ipython",
    "version": 3
   },
   "file_extension": ".py",
   "mimetype": "text/x-python",
   "name": "python",
   "nbconvert_exporter": "python",
   "pygments_lexer": "ipython3",
   "version": "3.7.4"
  },
  "latex_envs": {
   "LaTeX_envs_menu_present": true,
   "autoclose": false,
   "autocomplete": true,
   "bibliofile": "biblio.bib",
   "cite_by": "apalike",
   "current_citInitial": 1,
   "eqLabelWithNumbers": true,
   "eqNumInitial": 1,
   "hotkeys": {
    "equation": "Ctrl-E",
    "itemize": "Ctrl-I"
   },
   "labels_anchors": false,
   "latex_user_defs": false,
   "report_style_numbering": false,
   "user_envs_cfg": false
  },
  "nteract": {
   "version": "0.12.3"
  }
 },
 "nbformat": 4,
 "nbformat_minor": 2
}
